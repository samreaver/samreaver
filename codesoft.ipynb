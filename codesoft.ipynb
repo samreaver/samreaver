{
  "nbformat": 4,
  "nbformat_minor": 0,
  "metadata": {
    "colab": {
      "private_outputs": true,
      "provenance": [],
      "authorship_tag": "ABX9TyMAZxrIKa9i9IGQVkaWjEIW",
      "include_colab_link": true
    },
    "kernelspec": {
      "name": "python3",
      "display_name": "Python 3"
    },
    "language_info": {
      "name": "python"
    }
  },
  "cells": [
    {
      "cell_type": "markdown",
      "metadata": {
        "id": "view-in-github",
        "colab_type": "text"
      },
      "source": [
        "<a href=\"https://colab.research.google.com/github/samreaver/samreaver/blob/main/codesoft.ipynb\" target=\"_parent\"><img src=\"https://colab.research.google.com/assets/colab-badge.svg\" alt=\"Open In Colab\"/></a>"
      ]
    },
    {
      "cell_type": "markdown",
      "source": [
        "To do list\n"
      ],
      "metadata": {
        "id": "YvG6JplrEKXY"
      }
    },
    {
      "cell_type": "code",
      "source": [
        "while True:\n",
        "  list1 = []\n",
        "  print(\"Press 1 for create,press 2 for update,press 3 for exit\")\n",
        "  def list_add():\n",
        "    n1 = int(input(\"Enter number of data\"))\n",
        "    for i in range (1,n1+1):\n",
        "      data = input(\"Enter the data\")\n",
        "      list1.append(data)\n",
        "    print(list1)\n",
        "  def list_update(data):\n",
        "    n1 = int(input(\"Enter number of data\"))\n",
        "    for i in range (1,n1+1):\n",
        "      data = int(input(\"Enter your data \"))\n",
        "      list1.update(data)\n",
        "    print(list1)\n",
        "  ch = int(input(\"Enter your choice\"))\n",
        "  if (ch ==1):\n",
        "    list_add()\n",
        "  elif(ch == 2):\n",
        "    list_update()\n",
        "  elif(ch == 3):\n",
        "    break"
      ],
      "metadata": {
        "id": "NoTeS52DEHRt"
      },
      "execution_count": null,
      "outputs": []
    },
    {
      "cell_type": "markdown",
      "source": [
        "Calculator"
      ],
      "metadata": {
        "id": "xFlsiC2HDykW"
      }
    },
    {
      "cell_type": "code",
      "source": [
        "A = int(input(\"Enter first number\"))\n",
        "operator = input(\"Enter operator(+,_,*,/,%)\")\n",
        "B = int(input(\"Enter second number\"))\n",
        "if operator == \"+\":\n",
        "  print(A+B)\n",
        "elif operator == \"-\":\n",
        "  print(A-B)\n",
        "elif operator ==\"*\":\n",
        "  print(A*B)\n",
        "elif operator ==\"/\":\n",
        "  print(A/B)\n",
        "elif operator ==\"%\":\n",
        "  print(A%B)\n"
      ],
      "metadata": {
        "id": "XbeGTPHVBgGF"
      },
      "execution_count": null,
      "outputs": []
    },
    {
      "cell_type": "markdown",
      "source": [
        "Password Generator\n"
      ],
      "metadata": {
        "id": "R-GdW6Z6BdME"
      }
    },
    {
      "cell_type": "code",
      "execution_count": null,
      "metadata": {
        "id": "6hNexBf5AzNV"
      },
      "outputs": [],
      "source": [
        "import random"
      ]
    },
    {
      "cell_type": "code",
      "source": [
        "arr = \"ABCDEFGHIJKLMNOPQRSTUVWXYZabcdefghijklmnopqrstuvwxyz!@#$%^&*()?:<>_\"\n",
        "while True:\n",
        "    password_length = int(input(\"Enter the length of password:  \"))\n",
        "    password = \"\"\n",
        "    for i in range (password_length):\n",
        "        password_arr = random.choice(arr)\n",
        "        password = password + password_arr\n",
        "    print(\"your password is\" , password)"
      ],
      "metadata": {
        "id": "k7AadKAGA5h2"
      },
      "execution_count": null,
      "outputs": []
    },
    {
      "cell_type": "code",
      "source": [],
      "metadata": {
        "id": "-DzGdwsqBQvA"
      },
      "execution_count": null,
      "outputs": []
    }
  ]
}